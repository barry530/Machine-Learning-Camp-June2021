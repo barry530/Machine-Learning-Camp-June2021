{
 "cells": [
  {
   "cell_type": "code",
   "execution_count": 1,
   "metadata": {},
   "outputs": [],
   "source": [
    "import pandas as pd\n",
    "import numpy as np\n",
    "import matplotlib.pyplot as plt\n",
    "import seaborn as sns"
   ]
  },
  {
   "cell_type": "markdown",
   "metadata": {},
   "source": [
    "## 解題步驟：\n",
    "\n",
    "1. 將 train.csv, test.csv 合併\n",
    "2. 取出 LotFrontage, GarageYrBlt, MasVnrArea 三個特徵的資料\n",
    "3. 分別以平均值及中位數來填補缺失值\n",
    "4. 分析缺失值，練習繪製直方圖及機率圖 (如下圖)\n",
    "5. 分別計算原本、以平均值填補、以中位數填補的標準差\n",
    "6. 課後問答\n",
    "\n",
    "## Hint\n",
    "\n",
    "* [pandas.DataFrame.fillna()](https://pandas.pydata.org/pandas-docs/stable/reference/api/pandas.DataFrame.fillna.html)\n",
    "* [seaborn.histplot](\n",
    "\n",
    "\n",
    "## 讀取資料"
   ]
  },
  {
   "cell_type": "code",
   "execution_count": 2,
   "metadata": {},
   "outputs": [],
   "source": [
    "\"\"\" Your code hear: 讀取 train.csv, test.csv 並合併 \"\"\"\n",
    "train = pd.read_csv('./train.csv')\n",
    "test = pd.read_csv('./test.csv')"
   ]
  },
  {
   "cell_type": "code",
   "execution_count": 3,
   "metadata": {},
   "outputs": [],
   "source": [
    "data = pd.concat([train, test])"
   ]
  },
  {
   "cell_type": "code",
   "execution_count": 4,
   "metadata": {
    "scrolled": true
   },
   "outputs": [
    {
     "name": "stdout",
     "output_type": "stream",
     "text": [
      "<class 'pandas.core.frame.DataFrame'>\n",
      "Int64Index: 1460 entries, 0 to 364\n",
      "Data columns (total 81 columns):\n",
      " #   Column         Non-Null Count  Dtype  \n",
      "---  ------         --------------  -----  \n",
      " 0   Id             1460 non-null   int64  \n",
      " 1   MSSubClass     1460 non-null   int64  \n",
      " 2   MSZoning       1460 non-null   object \n",
      " 3   LotFrontage    1201 non-null   float64\n",
      " 4   LotArea        1460 non-null   int64  \n",
      " 5   Street         1460 non-null   object \n",
      " 6   Alley          91 non-null     object \n",
      " 7   LotShape       1460 non-null   object \n",
      " 8   LandContour    1460 non-null   object \n",
      " 9   Utilities      1460 non-null   object \n",
      " 10  LotConfig      1460 non-null   object \n",
      " 11  LandSlope      1460 non-null   object \n",
      " 12  Neighborhood   1460 non-null   object \n",
      " 13  Condition1     1460 non-null   object \n",
      " 14  Condition2     1460 non-null   object \n",
      " 15  BldgType       1460 non-null   object \n",
      " 16  HouseStyle     1460 non-null   object \n",
      " 17  OverallQual    1460 non-null   int64  \n",
      " 18  OverallCond    1460 non-null   int64  \n",
      " 19  YearBuilt      1460 non-null   int64  \n",
      " 20  YearRemodAdd   1460 non-null   int64  \n",
      " 21  RoofStyle      1460 non-null   object \n",
      " 22  RoofMatl       1460 non-null   object \n",
      " 23  Exterior1st    1460 non-null   object \n",
      " 24  Exterior2nd    1460 non-null   object \n",
      " 25  MasVnrType     1452 non-null   object \n",
      " 26  MasVnrArea     1452 non-null   float64\n",
      " 27  ExterQual      1460 non-null   object \n",
      " 28  ExterCond      1460 non-null   object \n",
      " 29  Foundation     1460 non-null   object \n",
      " 30  BsmtQual       1423 non-null   object \n",
      " 31  BsmtCond       1423 non-null   object \n",
      " 32  BsmtExposure   1422 non-null   object \n",
      " 33  BsmtFinType1   1423 non-null   object \n",
      " 34  BsmtFinSF1     1460 non-null   int64  \n",
      " 35  BsmtFinType2   1422 non-null   object \n",
      " 36  BsmtFinSF2     1460 non-null   int64  \n",
      " 37  BsmtUnfSF      1460 non-null   int64  \n",
      " 38  TotalBsmtSF    1460 non-null   int64  \n",
      " 39  Heating        1460 non-null   object \n",
      " 40  HeatingQC      1460 non-null   object \n",
      " 41  CentralAir     1460 non-null   object \n",
      " 42  Electrical     1459 non-null   object \n",
      " 43  1stFlrSF       1460 non-null   int64  \n",
      " 44  2ndFlrSF       1460 non-null   int64  \n",
      " 45  LowQualFinSF   1460 non-null   int64  \n",
      " 46  GrLivArea      1460 non-null   int64  \n",
      " 47  BsmtFullBath   1460 non-null   int64  \n",
      " 48  BsmtHalfBath   1460 non-null   int64  \n",
      " 49  FullBath       1460 non-null   int64  \n",
      " 50  HalfBath       1460 non-null   int64  \n",
      " 51  BedroomAbvGr   1460 non-null   int64  \n",
      " 52  KitchenAbvGr   1460 non-null   int64  \n",
      " 53  KitchenQual    1460 non-null   object \n",
      " 54  TotRmsAbvGrd   1460 non-null   int64  \n",
      " 55  Functional     1460 non-null   object \n",
      " 56  Fireplaces     1460 non-null   int64  \n",
      " 57  FireplaceQu    770 non-null    object \n",
      " 58  GarageType     1379 non-null   object \n",
      " 59  GarageYrBlt    1379 non-null   float64\n",
      " 60  GarageFinish   1379 non-null   object \n",
      " 61  GarageCars     1460 non-null   int64  \n",
      " 62  GarageArea     1460 non-null   int64  \n",
      " 63  GarageQual     1379 non-null   object \n",
      " 64  GarageCond     1379 non-null   object \n",
      " 65  PavedDrive     1460 non-null   object \n",
      " 66  WoodDeckSF     1460 non-null   int64  \n",
      " 67  OpenPorchSF    1460 non-null   int64  \n",
      " 68  EnclosedPorch  1460 non-null   int64  \n",
      " 69  3SsnPorch      1460 non-null   int64  \n",
      " 70  ScreenPorch    1460 non-null   int64  \n",
      " 71  PoolArea       1460 non-null   int64  \n",
      " 72  PoolQC         7 non-null      object \n",
      " 73  Fence          281 non-null    object \n",
      " 74  MiscFeature    54 non-null     object \n",
      " 75  MiscVal        1460 non-null   int64  \n",
      " 76  MoSold         1460 non-null   int64  \n",
      " 77  YrSold         1460 non-null   int64  \n",
      " 78  SaleType       1460 non-null   object \n",
      " 79  SaleCondition  1460 non-null   object \n",
      " 80  SalePrice      1460 non-null   int64  \n",
      "dtypes: float64(3), int64(35), object(43)\n",
      "memory usage: 935.3+ KB\n"
     ]
    }
   ],
   "source": [
    "data.info()"
   ]
  },
  {
   "cell_type": "markdown",
   "metadata": {},
   "source": [
    "## 分離目標"
   ]
  },
  {
   "cell_type": "code",
   "execution_count": 5,
   "metadata": {},
   "outputs": [],
   "source": [
    "target = data.SalePrice\n",
    "data = data.select_dtypes(include=['int64','float64']).drop(columns=['Id', 'MSSubClass'])"
   ]
  },
  {
   "cell_type": "code",
   "execution_count": 6,
   "metadata": {},
   "outputs": [],
   "source": [
    "LotFrontage = data.LotFrontage\n",
    "GarageYrBlt = data.GarageYrBlt\n",
    "MasVnrArea = data.MasVnrArea"
   ]
  },
  {
   "cell_type": "markdown",
   "metadata": {},
   "source": [
    "## 繪圖"
   ]
  },
  {
   "cell_type": "code",
   "execution_count": 7,
   "metadata": {},
   "outputs": [
    {
     "data": {
      "image/png": "[encoded data removed]",
      "text/plain": [
       "<Figure size 576x288 with 1 Axes>"
      ]
     },
     "metadata": {
      "needs_background": "light"
     },
     "output_type": "display_data"
    }
   ],
   "source": [
    "missing = data.isnull().sum(axis = 0)\n",
    "missing = missing[missing > 0]\n",
    "missing.sort_values(inplace=True, ascending = False)\n",
    "\n",
    "plt.figure(figsize = (8, 4))\n",
    "plt.bar(list(missing.index), np.array(missing))\n",
    "plt.xticks(rotation='vertical')\n",
    "plt.show()"
   ]
  },
  {
   "cell_type": "code",
   "execution_count": 8,
   "metadata": {},
   "outputs": [
    {
     "data": {
      "image/png": "[encoded data removed]",
      "text/plain": [
       "<Figure size 1120x420 with 3 Axes>"
      ]
     },
     "metadata": {
      "needs_background": "light"
     },
     "output_type": "display_data"
    }
   ],
   "source": [
    "LotFrontage_mean = data.LotFrontage.fillna(data.LotFrontage.mean())\n",
    "LotFrontage_median = data.LotFrontage.fillna(data.LotFrontage.median())\n",
    "\n",
    "plt.figure(figsize = (16, 6), dpi = 70)\n",
    "\n",
    "plt.subplot(1, 3, 1, title = 'Original')\n",
    "sns.histplot(LotFrontage)\n",
    "\n",
    "plt.subplot(1, 3, 2, title = 'Mean')\n",
    "sns.histplot(LotFrontage_mean)\n",
    "\n",
    "plt.subplot(1, 3, 3, title = 'Median')\n",
    "sns.histplot(LotFrontage_median)\n",
    "\n",
    "plt.show()"
   ]
  },
  {
   "cell_type": "code",
   "execution_count": 9,
   "metadata": {},
   "outputs": [
    {
     "data": {
      "image/png": "[encoded data removed]",
      "text/plain": [
       "<Figure size 1120x420 with 3 Axes>"
      ]
     },
     "metadata": {
      "needs_background": "light"
     },
     "output_type": "display_data"
    }
   ],
   "source": [
    "GarageYrBlt_mean = data.GarageYrBlt.fillna(data.GarageYrBlt.mean())\n",
    "GarageYrBlt_median = data.GarageYrBlt.fillna(data.GarageYrBlt.median())\n",
    "\n",
    "plt.figure(figsize = (16, 6), dpi = 70)\n",
    "\n",
    "plt.subplot(1, 3, 1, title = 'Original')\n",
    "sns.histplot(GarageYrBlt)\n",
    "\n",
    "plt.subplot(1, 3, 2, title = 'Mean')\n",
    "sns.histplot(GarageYrBlt_mean)\n",
    "\n",
    "plt.subplot(1, 3, 3, title = 'Median')\n",
    "sns.histplot(GarageYrBlt_median)\n",
    "\n",
    "plt.show()"
   ]
  },
  {
   "cell_type": "code",
   "execution_count": 10,
   "metadata": {},
   "outputs": [
    {
     "data": {
      "image/png": "[encoded data removed]",
      "text/plain": [
       "<Figure size 1120x420 with 3 Axes>"
      ]
     },
     "metadata": {
      "needs_background": "light"
     },
     "output_type": "display_data"
    }
   ],
   "source": [
    "MasVnrArea_mean = data.MasVnrArea.fillna(data.MasVnrArea.mean())\n",
    "MasVnrArea_median = data.MasVnrArea.fillna(data.MasVnrArea.median())\n",
    "\n",
    "plt.figure(figsize = (16, 6), dpi = 70)\n",
    "\n",
    "plt.subplot(1, 3, 1, title = 'Original')\n",
    "sns.histplot(MasVnrArea)\n",
    "\n",
    "plt.subplot(1, 3, 2, title = 'Mean')\n",
    "sns.histplot(MasVnrArea_mean)\n",
    "\n",
    "plt.subplot(1, 3, 3, title = 'Median')\n",
    "sns.histplot(MasVnrArea_median)\n",
    "\n",
    "plt.show()"
   ]
  },
  {
   "cell_type": "markdown",
   "metadata": {},
   "source": [
    "## 分析標準差"
   ]
  },
  {
   "cell_type": "code",
   "execution_count": 11,
   "metadata": {},
   "outputs": [
    {
     "name": "stdout",
     "output_type": "stream",
     "text": [
      "The std of LotFrontage : 24.28475177448317\n",
      "(fill na with mean) : 22.02402268870693 \n",
      "(fill na with median) : 22.027677088952437\n",
      "\n",
      "The std of GarageYrBlt : 24.689724768590203\n",
      "(fill na with mean) : 23.994583259057613 \n",
      "(fill na with median) : 23.997021528934187\n",
      "\n",
      "The std of MasVnrArea : 181.06620658721764\n",
      "(fill na with mean) : 180.5691124259731 \n",
      "(fill na with median) : 180.73137335812245\n"
     ]
    }
   ],
   "source": [
    "print(f'The std of LotFrontage : {LotFrontage.std()}\\\n",
    "\\n(fill na with mean) : {LotFrontage_mean.std()} \\\n",
    "\\n(fill na with median) : {LotFrontage_median.std()}')\n",
    "\n",
    "print(f'\\nThe std of GarageYrBlt : {GarageYrBlt.std()}\\\n",
    "\\n(fill na with mean) : {GarageYrBlt_mean.std()} \\\n",
    "\\n(fill na with median) : {GarageYrBlt_median.std()}')\n",
    "\n",
    "print(f'\\nThe std of MasVnrArea : {MasVnrArea.std()}\\\n",
    "\\n(fill na with mean) : {MasVnrArea_mean.std()} \\\n",
    "\\n(fill na with median) : {MasVnrArea_median.std()}')"
   ]
  },
  {
   "cell_type": "markdown",
   "metadata": {},
   "source": [
    "## 透過分析標準差可以得到什麼結果？\n",
    "可以知道藉由不同方式的補值資料的分布會呈現甚麼樣子，但這三個變數用中位數和平均數補值後標準差都差不多，沒有太多的變化，若是有極值時平均數會較容易受影響，標準差也容易較大。"
   ]
  }
 ],
 "metadata": {
  "kernelspec": {
   "display_name": "Python 3",
   "language": "python",
   "name": "python3"
  },
  "language_info": {
   "codemirror_mode": {
    "name": "ipython",
    "version": 3
   },
   "file_extension": ".py",
   "mimetype": "text/x-python",
   "name": "python",
   "nbconvert_exporter": "python",
   "pygments_lexer": "ipython3",
   "version": "3.8.8"
  },
  "toc": {
   "base_numbering": 1,
   "nav_menu": {},
   "number_sections": true,
   "sideBar": true,
   "skip_h1_title": false,
   "title_cell": "Table of Contents",
   "title_sidebar": "Contents",
   "toc_cell": false,
   "toc_position": {},
   "toc_section_display": true,
   "toc_window_display": false
  }
 },
 "nbformat": 4,
 "nbformat_minor": 2
}
