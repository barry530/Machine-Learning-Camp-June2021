{
 "cells": [
  {
   "cell_type": "code",
   "execution_count": 1,
   "metadata": {},
   "outputs": [],
   "source": [
    "import numpy as np\n",
    "import pandas as pd\n",
    "import time"
   ]
  },
  {
   "cell_type": "markdown",
   "metadata": {},
   "source": [
    "# Hw01\n",
    "## 作業目標：\n",
    "1. 熟悉 Numpy, Pandas 的操作，並比較兩者的處理速度\n",
    "## 作業重點：\n",
    "1. 使用 Numpy, Pandas 分別計算 “homework.csv” 中每個 feature 的平均值、中位數、最大值、最小值，並比較兩者運算時間\n",
    "2. 利用以下方式篩選離群值(option)：\n",
    "* feature 的平均值組成一個高維向量 Vec\n",
    "* 計算每個 sample 與 Vec 的距離\n",
    "* 計算距離的平均值、標準差，將距離平均值超過三個標準差的點當作離群值刪除\n",
    "* __請將刪除離群值後的 dataframe 取名為 df_after_delete__"
   ]
  },
  {
   "cell_type": "code",
   "execution_count": 2,
   "metadata": {},
   "outputs": [
    {
     "data": {
      "text/html": [
       "<div>\n",
       "<style scoped>\n",
       "    .dataframe tbody tr th:only-of-type {\n",
       "        vertical-align: middle;\n",
       "    }\n",
       "\n",
       "    .dataframe tbody tr th {\n",
       "        vertical-align: top;\n",
       "    }\n",
       "\n",
       "    .dataframe thead th {\n",
       "        text-align: right;\n",
       "    }\n",
       "</style>\n",
       "<table border=\"1\" class=\"dataframe\">\n",
       "  <thead>\n",
       "    <tr style=\"text-align: right;\">\n",
       "      <th></th>\n",
       "      <th>col0</th>\n",
       "      <th>col1</th>\n",
       "      <th>col2</th>\n",
       "      <th>col3</th>\n",
       "      <th>col4</th>\n",
       "      <th>col5</th>\n",
       "      <th>col6</th>\n",
       "      <th>col7</th>\n",
       "      <th>col8</th>\n",
       "      <th>col9</th>\n",
       "      <th>...</th>\n",
       "      <th>col70</th>\n",
       "      <th>col71</th>\n",
       "      <th>col72</th>\n",
       "      <th>col73</th>\n",
       "      <th>col74</th>\n",
       "      <th>col75</th>\n",
       "      <th>col76</th>\n",
       "      <th>col77</th>\n",
       "      <th>col78</th>\n",
       "      <th>col79</th>\n",
       "    </tr>\n",
       "  </thead>\n",
       "  <tbody>\n",
       "    <tr>\n",
       "      <td>0</td>\n",
       "      <td>-0.037418</td>\n",
       "      <td>-0.423133</td>\n",
       "      <td>-1.066878</td>\n",
       "      <td>0.463263</td>\n",
       "      <td>-0.130916</td>\n",
       "      <td>-1.153970</td>\n",
       "      <td>-0.598449</td>\n",
       "      <td>-0.327957</td>\n",
       "      <td>-0.007907</td>\n",
       "      <td>-0.464428</td>\n",
       "      <td>...</td>\n",
       "      <td>0.222763</td>\n",
       "      <td>-1.229966</td>\n",
       "      <td>-0.667184</td>\n",
       "      <td>-0.102731</td>\n",
       "      <td>-1.310584</td>\n",
       "      <td>-0.702787</td>\n",
       "      <td>2.059981</td>\n",
       "      <td>0.608418</td>\n",
       "      <td>-0.020808</td>\n",
       "      <td>1.783352</td>\n",
       "    </tr>\n",
       "    <tr>\n",
       "      <td>1</td>\n",
       "      <td>0.818413</td>\n",
       "      <td>-1.120974</td>\n",
       "      <td>-0.581785</td>\n",
       "      <td>-1.280338</td>\n",
       "      <td>-0.713844</td>\n",
       "      <td>1.698914</td>\n",
       "      <td>-0.832480</td>\n",
       "      <td>-0.313192</td>\n",
       "      <td>-1.036266</td>\n",
       "      <td>-1.098621</td>\n",
       "      <td>...</td>\n",
       "      <td>-0.445329</td>\n",
       "      <td>-0.693601</td>\n",
       "      <td>0.795167</td>\n",
       "      <td>-1.051140</td>\n",
       "      <td>1.285994</td>\n",
       "      <td>0.653626</td>\n",
       "      <td>1.396237</td>\n",
       "      <td>0.080399</td>\n",
       "      <td>1.377073</td>\n",
       "      <td>-0.794819</td>\n",
       "    </tr>\n",
       "    <tr>\n",
       "      <td>2</td>\n",
       "      <td>-2.090596</td>\n",
       "      <td>-0.868769</td>\n",
       "      <td>-1.778862</td>\n",
       "      <td>0.666989</td>\n",
       "      <td>-1.357663</td>\n",
       "      <td>0.433514</td>\n",
       "      <td>-1.617890</td>\n",
       "      <td>-1.220858</td>\n",
       "      <td>-0.566980</td>\n",
       "      <td>-1.237635</td>\n",
       "      <td>...</td>\n",
       "      <td>1.152130</td>\n",
       "      <td>-0.058108</td>\n",
       "      <td>-0.105104</td>\n",
       "      <td>1.080918</td>\n",
       "      <td>0.924454</td>\n",
       "      <td>-0.019370</td>\n",
       "      <td>-0.948623</td>\n",
       "      <td>-0.981408</td>\n",
       "      <td>-0.251559</td>\n",
       "      <td>0.345169</td>\n",
       "    </tr>\n",
       "    <tr>\n",
       "      <td>3</td>\n",
       "      <td>-0.289783</td>\n",
       "      <td>1.151368</td>\n",
       "      <td>1.105835</td>\n",
       "      <td>-0.309009</td>\n",
       "      <td>0.186021</td>\n",
       "      <td>0.625453</td>\n",
       "      <td>-1.357677</td>\n",
       "      <td>0.308579</td>\n",
       "      <td>-0.380738</td>\n",
       "      <td>1.335565</td>\n",
       "      <td>...</td>\n",
       "      <td>-0.683605</td>\n",
       "      <td>0.905133</td>\n",
       "      <td>1.328116</td>\n",
       "      <td>0.529399</td>\n",
       "      <td>-0.443334</td>\n",
       "      <td>1.276279</td>\n",
       "      <td>2.503925</td>\n",
       "      <td>0.613427</td>\n",
       "      <td>0.358716</td>\n",
       "      <td>-0.958212</td>\n",
       "    </tr>\n",
       "    <tr>\n",
       "      <td>4</td>\n",
       "      <td>0.393337</td>\n",
       "      <td>-1.279473</td>\n",
       "      <td>-0.380730</td>\n",
       "      <td>-3.059202</td>\n",
       "      <td>-1.027667</td>\n",
       "      <td>0.121893</td>\n",
       "      <td>0.088561</td>\n",
       "      <td>-0.444649</td>\n",
       "      <td>0.643246</td>\n",
       "      <td>-0.258456</td>\n",
       "      <td>...</td>\n",
       "      <td>-0.030803</td>\n",
       "      <td>-1.994453</td>\n",
       "      <td>-0.304141</td>\n",
       "      <td>-1.626619</td>\n",
       "      <td>-0.737330</td>\n",
       "      <td>0.276077</td>\n",
       "      <td>-0.052384</td>\n",
       "      <td>0.645169</td>\n",
       "      <td>-0.728073</td>\n",
       "      <td>-0.051508</td>\n",
       "    </tr>\n",
       "  </tbody>\n",
       "</table>\n",
       "<p>5 rows × 80 columns</p>\n",
       "</div>"
      ],
      "text/plain": [
       "       col0      col1      col2      col3      col4      col5      col6  \\\n",
       "0 -0.037418 -0.423133 -1.066878  0.463263 -0.130916 -1.153970 -0.598449   \n",
       "1  0.818413 -1.120974 -0.581785 -1.280338 -0.713844  1.698914 -0.832480   \n",
       "2 -2.090596 -0.868769 -1.778862  0.666989 -1.357663  0.433514 -1.617890   \n",
       "3 -0.289783  1.151368  1.105835 -0.309009  0.186021  0.625453 -1.357677   \n",
       "4  0.393337 -1.279473 -0.380730 -3.059202 -1.027667  0.121893  0.088561   \n",
       "\n",
       "       col7      col8      col9  ...     col70     col71     col72     col73  \\\n",
       "0 -0.327957 -0.007907 -0.464428  ...  0.222763 -1.229966 -0.667184 -0.102731   \n",
       "1 -0.313192 -1.036266 -1.098621  ... -0.445329 -0.693601  0.795167 -1.051140   \n",
       "2 -1.220858 -0.566980 -1.237635  ...  1.152130 -0.058108 -0.105104  1.080918   \n",
       "3  0.308579 -0.380738  1.335565  ... -0.683605  0.905133  1.328116  0.529399   \n",
       "4 -0.444649  0.643246 -0.258456  ... -0.030803 -1.994453 -0.304141 -1.626619   \n",
       "\n",
       "      col74     col75     col76     col77     col78     col79  \n",
       "0 -1.310584 -0.702787  2.059981  0.608418 -0.020808  1.783352  \n",
       "1  1.285994  0.653626  1.396237  0.080399  1.377073 -0.794819  \n",
       "2  0.924454 -0.019370 -0.948623 -0.981408 -0.251559  0.345169  \n",
       "3 -0.443334  1.276279  2.503925  0.613427  0.358716 -0.958212  \n",
       "4 -0.737330  0.276077 -0.052384  0.645169 -0.728073 -0.051508  \n",
       "\n",
       "[5 rows x 80 columns]"
      ]
     },
     "execution_count": 2,
     "metadata": {},
     "output_type": "execute_result"
    }
   ],
   "source": [
    "# 讀取 homework.csv\n",
    "\"\"\" Your Code Here: 讀取 homework.csv\"\"\"\n",
    "df = pd.read_csv('D:\\python\\ML_camp\\hw1\\homework.csv')\n",
    "df.head()"
   ]
  },
  {
   "cell_type": "markdown",
   "metadata": {},
   "source": [
    "## 1. 使用 Numpy, Pandas 分別計算 “homework.csv” 中每個 feature 的平均值、中位數、最大值、最小值，並比較兩者運算時間"
   ]
  },
  {
   "cell_type": "code",
   "execution_count": 3,
   "metadata": {},
   "outputs": [
    {
     "name": "stdout",
     "output_type": "stream",
     "text": [
      "Numpy has done in 0.1705 sec.\n",
      "Pandas has done in 0.1387 sec.\n"
     ]
    }
   ],
   "source": [
    "# -------------- Numpy --------------\n",
    "arr = np.array(df, dtype = 'float')\n",
    "\n",
    "start = time.time()\n",
    "\"\"\" Your Code Here: 用 Numpy 計算 “homework.csv” 中每個 feature 的平均值、中位數、最大值、最小值，並比較兩者運算時間\"\"\"\n",
    "avg_arr = np.average(arr, axis=0)\n",
    "median_arr = np.median(arr, axis=0)\n",
    "maximum_arr = np.max(arr, axis=0)\n",
    "minimum_arr = np.min(arr, axis=0)\n",
    "end = time.time()\n",
    "print(f'Numpy has done in {(end - start):.4f} sec.')\n",
    "\n",
    "# -------------- Pandas --------------\n",
    "start = time.time()\n",
    "\"\"\" Your Code Here: 用 Pandas 計算 “homework.csv” 中每個 feature 的平均值、中位數、最大值、最小值，並比較兩者運算時間\"\"\"\n",
    "avg_df = df.mean(axis=0)\n",
    "median_df = df.median(axis=0)\n",
    "maximun_df = df.max(axis=0)\n",
    "minimum_df = df.min(axis=0)\n",
    "end = time.time()\n",
    "print(f'Pandas has done in {(end - start):.4f} sec.')"
   ]
  },
  {
   "cell_type": "markdown",
   "metadata": {},
   "source": [
    "## 2. 利用以下方式篩選離群值(option)：\n",
    "* feature 的平均值組成一個高維向量 Vec\n",
    "* 計算每個 sample 與 Vec 的距離\n",
    "* 計算距離的平均值、標準差，將距離平均值超過三個標準差的點當作離群值刪除\n",
    "* __請將刪除離群值後的 dataframe 取名為 df_after_delete__"
   ]
  },
  {
   "cell_type": "code",
   "execution_count": 4,
   "metadata": {},
   "outputs": [],
   "source": [
    "# 計算各個 sample 與 Vec 之距離\n",
    "\"\"\" Your Code Here: 計算各個 sample 與 Vec 之距離\"\"\"\n",
    "dist = []\n",
    "for i in range(len(df)):\n",
    "    dist_sample = np.sqrt((df.iloc[i,:] - avg_df).pow(2).sum())\n",
    "    dist.append(dist_sample)\n",
    "# 計算 distance 的 mean, std, 並篩選離群值\n",
    "\"\"\" Your Code Here: 計算 distance 的 mean, std, 並篩選離群值\"\"\"\n",
    "dist_mean = np.mean(dist)\n",
    "dist_std = np.std(dist)\n",
    "# 刪除離群值\n",
    "\"\"\" Your Code Here: 刪除離群值\"\"\"\n",
    "df_after_delete = df\n",
    "for i in range(len(dist)):\n",
    "    z_score = (dist[i] - dist_mean) / dist_std\n",
    "    if np.abs(z_score) > 3:\n",
    "        df_after_delete = df_after_delete.drop(index=i)"
   ]
  },
  {
   "cell_type": "code",
   "execution_count": 7,
   "metadata": {},
   "outputs": [
    {
     "data": {
      "text/plain": [
       "(99711, 80)"
      ]
     },
     "execution_count": 7,
     "metadata": {},
     "output_type": "execute_result"
    }
   ],
   "source": [
    "df_after_delete.shape"
   ]
  },
  {
   "cell_type": "markdown",
   "metadata": {},
   "source": [
    "## --驗證答案--"
   ]
  },
  {
   "cell_type": "code",
   "execution_count": 6,
   "metadata": {},
   "outputs": [
    {
     "ename": "FileNotFoundError",
     "evalue": "[Errno 2] File b'./data/ans.csv' does not exist: b'./data/ans.csv'",
     "output_type": "error",
     "traceback": [
      "\u001b[1;31m---------------------------------------------------------------------------\u001b[0m",
      "\u001b[1;31mFileNotFoundError\u001b[0m                         Traceback (most recent call last)",
      "\u001b[1;32m<ipython-input-6-aa65c6781962>\u001b[0m in \u001b[0;36m<module>\u001b[1;34m\u001b[0m\n\u001b[1;32m----> 1\u001b[1;33m \u001b[0mans\u001b[0m \u001b[1;33m=\u001b[0m \u001b[0mpd\u001b[0m\u001b[1;33m.\u001b[0m\u001b[0mread_csv\u001b[0m\u001b[1;33m(\u001b[0m\u001b[1;34m'./data/ans.csv'\u001b[0m\u001b[1;33m)\u001b[0m\u001b[1;33m\u001b[0m\u001b[1;33m\u001b[0m\u001b[0m\n\u001b[0m\u001b[0;32m      2\u001b[0m \u001b[0mjudge\u001b[0m \u001b[1;33m=\u001b[0m \u001b[1;32mnot\u001b[0m \u001b[1;33m(\u001b[0m\u001b[1;32mFalse\u001b[0m \u001b[1;32min\u001b[0m \u001b[1;33m(\u001b[0m\u001b[0mans\u001b[0m \u001b[1;33m==\u001b[0m \u001b[0mdf_after_delete\u001b[0m\u001b[1;33m)\u001b[0m\u001b[1;33m)\u001b[0m\u001b[1;33m\u001b[0m\u001b[1;33m\u001b[0m\u001b[0m\n\u001b[0;32m      3\u001b[0m \u001b[0mprint\u001b[0m\u001b[1;33m(\u001b[0m\u001b[1;34mf'Your answer is {judge}.'\u001b[0m\u001b[1;33m)\u001b[0m\u001b[1;33m\u001b[0m\u001b[1;33m\u001b[0m\u001b[0m\n",
      "\u001b[1;32m~\\Anaconda3\\lib\\site-packages\\pandas\\io\\parsers.py\u001b[0m in \u001b[0;36mparser_f\u001b[1;34m(filepath_or_buffer, sep, delimiter, header, names, index_col, usecols, squeeze, prefix, mangle_dupe_cols, dtype, engine, converters, true_values, false_values, skipinitialspace, skiprows, skipfooter, nrows, na_values, keep_default_na, na_filter, verbose, skip_blank_lines, parse_dates, infer_datetime_format, keep_date_col, date_parser, dayfirst, cache_dates, iterator, chunksize, compression, thousands, decimal, lineterminator, quotechar, quoting, doublequote, escapechar, comment, encoding, dialect, error_bad_lines, warn_bad_lines, delim_whitespace, low_memory, memory_map, float_precision)\u001b[0m\n\u001b[0;32m    683\u001b[0m         )\n\u001b[0;32m    684\u001b[0m \u001b[1;33m\u001b[0m\u001b[0m\n\u001b[1;32m--> 685\u001b[1;33m         \u001b[1;32mreturn\u001b[0m \u001b[0m_read\u001b[0m\u001b[1;33m(\u001b[0m\u001b[0mfilepath_or_buffer\u001b[0m\u001b[1;33m,\u001b[0m \u001b[0mkwds\u001b[0m\u001b[1;33m)\u001b[0m\u001b[1;33m\u001b[0m\u001b[1;33m\u001b[0m\u001b[0m\n\u001b[0m\u001b[0;32m    686\u001b[0m \u001b[1;33m\u001b[0m\u001b[0m\n\u001b[0;32m    687\u001b[0m     \u001b[0mparser_f\u001b[0m\u001b[1;33m.\u001b[0m\u001b[0m__name__\u001b[0m \u001b[1;33m=\u001b[0m \u001b[0mname\u001b[0m\u001b[1;33m\u001b[0m\u001b[1;33m\u001b[0m\u001b[0m\n",
      "\u001b[1;32m~\\Anaconda3\\lib\\site-packages\\pandas\\io\\parsers.py\u001b[0m in \u001b[0;36m_read\u001b[1;34m(filepath_or_buffer, kwds)\u001b[0m\n\u001b[0;32m    455\u001b[0m \u001b[1;33m\u001b[0m\u001b[0m\n\u001b[0;32m    456\u001b[0m     \u001b[1;31m# Create the parser.\u001b[0m\u001b[1;33m\u001b[0m\u001b[1;33m\u001b[0m\u001b[1;33m\u001b[0m\u001b[0m\n\u001b[1;32m--> 457\u001b[1;33m     \u001b[0mparser\u001b[0m \u001b[1;33m=\u001b[0m \u001b[0mTextFileReader\u001b[0m\u001b[1;33m(\u001b[0m\u001b[0mfp_or_buf\u001b[0m\u001b[1;33m,\u001b[0m \u001b[1;33m**\u001b[0m\u001b[0mkwds\u001b[0m\u001b[1;33m)\u001b[0m\u001b[1;33m\u001b[0m\u001b[1;33m\u001b[0m\u001b[0m\n\u001b[0m\u001b[0;32m    458\u001b[0m \u001b[1;33m\u001b[0m\u001b[0m\n\u001b[0;32m    459\u001b[0m     \u001b[1;32mif\u001b[0m \u001b[0mchunksize\u001b[0m \u001b[1;32mor\u001b[0m \u001b[0miterator\u001b[0m\u001b[1;33m:\u001b[0m\u001b[1;33m\u001b[0m\u001b[1;33m\u001b[0m\u001b[0m\n",
      "\u001b[1;32m~\\Anaconda3\\lib\\site-packages\\pandas\\io\\parsers.py\u001b[0m in \u001b[0;36m__init__\u001b[1;34m(self, f, engine, **kwds)\u001b[0m\n\u001b[0;32m    893\u001b[0m             \u001b[0mself\u001b[0m\u001b[1;33m.\u001b[0m\u001b[0moptions\u001b[0m\u001b[1;33m[\u001b[0m\u001b[1;34m\"has_index_names\"\u001b[0m\u001b[1;33m]\u001b[0m \u001b[1;33m=\u001b[0m \u001b[0mkwds\u001b[0m\u001b[1;33m[\u001b[0m\u001b[1;34m\"has_index_names\"\u001b[0m\u001b[1;33m]\u001b[0m\u001b[1;33m\u001b[0m\u001b[1;33m\u001b[0m\u001b[0m\n\u001b[0;32m    894\u001b[0m \u001b[1;33m\u001b[0m\u001b[0m\n\u001b[1;32m--> 895\u001b[1;33m         \u001b[0mself\u001b[0m\u001b[1;33m.\u001b[0m\u001b[0m_make_engine\u001b[0m\u001b[1;33m(\u001b[0m\u001b[0mself\u001b[0m\u001b[1;33m.\u001b[0m\u001b[0mengine\u001b[0m\u001b[1;33m)\u001b[0m\u001b[1;33m\u001b[0m\u001b[1;33m\u001b[0m\u001b[0m\n\u001b[0m\u001b[0;32m    896\u001b[0m \u001b[1;33m\u001b[0m\u001b[0m\n\u001b[0;32m    897\u001b[0m     \u001b[1;32mdef\u001b[0m \u001b[0mclose\u001b[0m\u001b[1;33m(\u001b[0m\u001b[0mself\u001b[0m\u001b[1;33m)\u001b[0m\u001b[1;33m:\u001b[0m\u001b[1;33m\u001b[0m\u001b[1;33m\u001b[0m\u001b[0m\n",
      "\u001b[1;32m~\\Anaconda3\\lib\\site-packages\\pandas\\io\\parsers.py\u001b[0m in \u001b[0;36m_make_engine\u001b[1;34m(self, engine)\u001b[0m\n\u001b[0;32m   1133\u001b[0m     \u001b[1;32mdef\u001b[0m \u001b[0m_make_engine\u001b[0m\u001b[1;33m(\u001b[0m\u001b[0mself\u001b[0m\u001b[1;33m,\u001b[0m \u001b[0mengine\u001b[0m\u001b[1;33m=\u001b[0m\u001b[1;34m\"c\"\u001b[0m\u001b[1;33m)\u001b[0m\u001b[1;33m:\u001b[0m\u001b[1;33m\u001b[0m\u001b[1;33m\u001b[0m\u001b[0m\n\u001b[0;32m   1134\u001b[0m         \u001b[1;32mif\u001b[0m \u001b[0mengine\u001b[0m \u001b[1;33m==\u001b[0m \u001b[1;34m\"c\"\u001b[0m\u001b[1;33m:\u001b[0m\u001b[1;33m\u001b[0m\u001b[1;33m\u001b[0m\u001b[0m\n\u001b[1;32m-> 1135\u001b[1;33m             \u001b[0mself\u001b[0m\u001b[1;33m.\u001b[0m\u001b[0m_engine\u001b[0m \u001b[1;33m=\u001b[0m \u001b[0mCParserWrapper\u001b[0m\u001b[1;33m(\u001b[0m\u001b[0mself\u001b[0m\u001b[1;33m.\u001b[0m\u001b[0mf\u001b[0m\u001b[1;33m,\u001b[0m \u001b[1;33m**\u001b[0m\u001b[0mself\u001b[0m\u001b[1;33m.\u001b[0m\u001b[0moptions\u001b[0m\u001b[1;33m)\u001b[0m\u001b[1;33m\u001b[0m\u001b[1;33m\u001b[0m\u001b[0m\n\u001b[0m\u001b[0;32m   1136\u001b[0m         \u001b[1;32melse\u001b[0m\u001b[1;33m:\u001b[0m\u001b[1;33m\u001b[0m\u001b[1;33m\u001b[0m\u001b[0m\n\u001b[0;32m   1137\u001b[0m             \u001b[1;32mif\u001b[0m \u001b[0mengine\u001b[0m \u001b[1;33m==\u001b[0m \u001b[1;34m\"python\"\u001b[0m\u001b[1;33m:\u001b[0m\u001b[1;33m\u001b[0m\u001b[1;33m\u001b[0m\u001b[0m\n",
      "\u001b[1;32m~\\Anaconda3\\lib\\site-packages\\pandas\\io\\parsers.py\u001b[0m in \u001b[0;36m__init__\u001b[1;34m(self, src, **kwds)\u001b[0m\n\u001b[0;32m   1915\u001b[0m         \u001b[0mkwds\u001b[0m\u001b[1;33m[\u001b[0m\u001b[1;34m\"usecols\"\u001b[0m\u001b[1;33m]\u001b[0m \u001b[1;33m=\u001b[0m \u001b[0mself\u001b[0m\u001b[1;33m.\u001b[0m\u001b[0musecols\u001b[0m\u001b[1;33m\u001b[0m\u001b[1;33m\u001b[0m\u001b[0m\n\u001b[0;32m   1916\u001b[0m \u001b[1;33m\u001b[0m\u001b[0m\n\u001b[1;32m-> 1917\u001b[1;33m         \u001b[0mself\u001b[0m\u001b[1;33m.\u001b[0m\u001b[0m_reader\u001b[0m \u001b[1;33m=\u001b[0m \u001b[0mparsers\u001b[0m\u001b[1;33m.\u001b[0m\u001b[0mTextReader\u001b[0m\u001b[1;33m(\u001b[0m\u001b[0msrc\u001b[0m\u001b[1;33m,\u001b[0m \u001b[1;33m**\u001b[0m\u001b[0mkwds\u001b[0m\u001b[1;33m)\u001b[0m\u001b[1;33m\u001b[0m\u001b[1;33m\u001b[0m\u001b[0m\n\u001b[0m\u001b[0;32m   1918\u001b[0m         \u001b[0mself\u001b[0m\u001b[1;33m.\u001b[0m\u001b[0munnamed_cols\u001b[0m \u001b[1;33m=\u001b[0m \u001b[0mself\u001b[0m\u001b[1;33m.\u001b[0m\u001b[0m_reader\u001b[0m\u001b[1;33m.\u001b[0m\u001b[0munnamed_cols\u001b[0m\u001b[1;33m\u001b[0m\u001b[1;33m\u001b[0m\u001b[0m\n\u001b[0;32m   1919\u001b[0m \u001b[1;33m\u001b[0m\u001b[0m\n",
      "\u001b[1;32mpandas\\_libs\\parsers.pyx\u001b[0m in \u001b[0;36mpandas._libs.parsers.TextReader.__cinit__\u001b[1;34m()\u001b[0m\n",
      "\u001b[1;32mpandas\\_libs\\parsers.pyx\u001b[0m in \u001b[0;36mpandas._libs.parsers.TextReader._setup_parser_source\u001b[1;34m()\u001b[0m\n",
      "\u001b[1;31mFileNotFoundError\u001b[0m: [Errno 2] File b'./data/ans.csv' does not exist: b'./data/ans.csv'"
     ]
    }
   ],
   "source": [
    "ans = pd.read_csv('./data/ans.csv')\n",
    "judge = not (False in (ans == df_after_delete))\n",
    "print(f'Your answer is {judge}.')"
   ]
  },
  {
   "cell_type": "code",
   "execution_count": null,
   "metadata": {},
   "outputs": [],
   "source": []
  }
 ],
 "metadata": {
  "kernelspec": {
   "display_name": "Python 3",
   "language": "python",
   "name": "python3"
  },
  "language_info": {
   "codemirror_mode": {
    "name": "ipython",
    "version": 3
   },
   "file_extension": ".py",
   "mimetype": "text/x-python",
   "name": "python",
   "nbconvert_exporter": "python",
   "pygments_lexer": "ipython3",
   "version": "3.7.4"
  },
  "metadata": {
   "interpreter": {
    "hash": "aee8b7b246df8f9039afb4144a1f6fd8d2ca17a180786b69acc140d282b71a49"
   }
  },
  "toc": {
   "base_numbering": 1,
   "nav_menu": {},
   "number_sections": true,
   "sideBar": true,
   "skip_h1_title": false,
   "title_cell": "Table of Contents",
   "title_sidebar": "Contents",
   "toc_cell": false,
   "toc_position": {},
   "toc_section_display": true,
   "toc_window_display": false
  }
 },
 "nbformat": 4,
 "nbformat_minor": 5
}
